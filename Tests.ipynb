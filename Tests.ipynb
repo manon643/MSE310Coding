{
 "cells": [
  {
   "cell_type": "code",
   "execution_count": 1,
   "metadata": {
    "pycharm": {
     "name": "#%%\n"
    }
   },
   "outputs": [],
   "source": [
    "import numpy as np\n",
    "from scipy import sparse\n",
    "import sklearn"
   ]
  },
  {
   "cell_type": "code",
   "execution_count": 2,
   "metadata": {},
   "outputs": [],
   "source": [
    "params = {}\n",
    "params[\"lambda\"] = 0.1\n",
    "params[\"alpha\"] = 0.1\n",
    "\n",
    "params[\"gamma\"] = 0.1*params[\"lambda\"]\n"
   ]
  },
  {
   "cell_type": "markdown",
   "metadata": {},
   "source": [
    "### Generating Dense Dataset"
   ]
  },
  {
   "cell_type": "code",
   "execution_count": 109,
   "metadata": {},
   "outputs": [
    {
     "name": "stdout",
     "output_type": "stream",
     "text": [
      "Only  44975 non zeros beta\n",
      "X computed (10000, 50000) (50000, 1)\n",
      "y computed\n"
     ]
    }
   ],
   "source": [
    "n = 10000;\n",
    "p = 50000;\n",
    "sparsity_level = 0.1;\n",
    "block_size = 100\n",
    "\n",
    "\n",
    "sparse_ = np.random.uniform(size=p) > sparsity_level\n",
    "Beta_true = np.random.normal(size=(p))*sparse_\n",
    "Beta_true = sparse.csc_matrix(Beta_true).T\n",
    "\n",
    "\n",
    "X = np.random.random((n, p))\n",
    "p_real = sum(sparse_)\n",
    "print(\"Only \", p_real, \"non zeros beta\")\n",
    "#X_real = np.random.random((n, p_real))\n",
    "#X = sparse.csc_matrix((n, p))\n",
    "#j = 0\n",
    "#for j_real in range(p_real):\n",
    "#    print(j_real)\n",
    "#    while not sparse_[j]:\n",
    "#    j+=1\n",
    "#    X[:, j] = X_real[:, j_real:j_real+1]\n",
    "#\n",
    "print(\"X computed\", X.shape, Beta_true.shape)\n",
    "\n",
    "\n",
    "y = np.random.normal((X @ Beta_true), 0.01)\n",
    "print(\"y computed\")\n",
    "A = 1/np.sqrt(n)*X\n",
    "c = -1/n*X.T @ y"
   ]
  },
  {
   "cell_type": "code",
   "execution_count": 110,
   "metadata": {},
   "outputs": [],
   "source": [
    "import matplotlib.pyplot as plt"
   ]
  },
  {
   "cell_type": "code",
   "execution_count": 112,
   "metadata": {},
   "outputs": [
    {
     "data": {
      "image/png": "[encoded data removed]",
      "text/plain": [
       "<Figure size 432x288 with 1 Axes>"
      ]
     },
     "metadata": {
      "needs_background": "light"
     },
     "output_type": "display_data"
    }
   ],
   "source": [
    "plt.plot(X[:200, 0], y[:200], \"r+\");\n"
   ]
  },
  {
   "cell_type": "markdown",
   "metadata": {},
   "source": [
    "## Optimization"
   ]
  },
  {
   "cell_type": "code",
   "execution_count": 113,
   "metadata": {},
   "outputs": [],
   "source": [
    "def penalty(z):\n",
    "    return params[\"lambda\"]*((1-params[\"alpha\"])/2*np.linalg.norm(z, 1) + params[\"alpha\"]*np.linalg.norm(z, 2))"
   ]
  },
  {
   "cell_type": "code",
   "execution_count": 114,
   "metadata": {
    "pycharm": {
     "name": "#%%\n"
    }
   },
   "outputs": [],
   "source": [
    "#print(c.shape)\n",
    "def lagrangian(beta, xi, z, gamma=params[\"gamma\"]):\n",
    "    #print(beta.sign, beta.curvature)\n",
    "    \n",
    "    first = 1/2*np.linalg.norm(A @ beta, 2) \n",
    "    third = 1/2*gamma*np.linalg.norm(beta - z, 2) ## diminue si beta = z\n",
    "    second = (c - xi).T @ beta ## diminue si beta augmente\n",
    "    #print(first, second, third, fourth)\n",
    "    #return first.squeeze() + second.squeeze() + third.squeeze() + fourth.squeeze() + penalty(z).squeeze()\n",
    "    return first + second + third + penalty(z)\n"
   ]
  },
  {
   "cell_type": "code",
   "execution_count": 115,
   "metadata": {},
   "outputs": [],
   "source": [
    "def soft_thres(a, b):\n",
    "    return -((np.abs(b) < a)*((a>0)*(a-b)+(a<=0)*(a+b)))"
   ]
  },
  {
   "cell_type": "code",
   "execution_count": 116,
   "metadata": {},
   "outputs": [],
   "source": [
    "def optimal_z(beta, xi, \n",
    "              alpha=params[\"alpha\"], \n",
    "              lambd=params[\"lambda\"], \n",
    "              gamma=params[\"gamma\"]):\n",
    "    return soft_thres(xi-gamma*beta, lambd*alpha)/((1-alpha)*lambd+gamma)"
   ]
  },
  {
   "cell_type": "code",
   "execution_count": null,
   "metadata": {},
   "outputs": [],
   "source": [
    "B = A.T @ A + params[\"gamma\"]*np.eye(p)"
   ]
  },
  {
   "cell_type": "code",
   "execution_count": null,
   "metadata": {},
   "outputs": [],
   "source": [
    "## Algo\n",
    "\n",
    "\n",
    "\n",
    "def one_cycle_racmbadmm(p, beta, xi, z):\n",
    "    num_blocks = p // block_size\n",
    "    # Split in blocks\n",
    "    permutation = list(range(p))\n",
    "    np.random.shuffle(permutation)\n",
    "    \n",
    "    # Optimize beta\n",
    "    for i in range(num_blocks):\n",
    "        indexes = permutation[(i*block_size):((i+1)*block_size)]\n",
    "        remaining_indexes = [i for i in range(p) if i not in indexes]\n",
    "        #print(\"indexes\", indexes)\n",
    "        B1 = B[np.ix_(indexes, indexes)]\n",
    "        B2 = B[np.ix_(indexes, remaining_indexes)]\n",
    "        \n",
    "        #print(block_size, B1.shape, B2.shape, beta[remaining_indexes].shape)\n",
    "        #import pdb; pdb.set_trace()\n",
    "        betasub_opt = - np.linalg.inv(B1)@(B2 @ beta[remaining_indexes] + (c-xi-params[\"gamma\"]*z)[indexes])\n",
    "        #model buildup\n",
    "        #beta_sub = beta[indexes]\n",
    "        #A_sub = A[:,indexes];\n",
    "        #H_current = (A_sub).T @ A_sub;\n",
    "        #c_current_sub = A_sub.T @ A @ beta - H_current @ beta_sub; # should be B_2 beta'\n",
    "        #H_current = H_current + params[\"gamma\"]*np.eye(block_size);\n",
    "        \n",
    "        #assert(B1 == H_current)\n",
    "        #assert(c_current_sub == )\n",
    "        ##print(c_current_sub.shape,  c_res[x_update_index].shape)\n",
    "        #c_current = c_current_sub + (c - xi - params[\"gamma\"]*z)[indexes]; \n",
    "\n",
    "\n",
    "        #model solver LDL factorization\n",
    "        # min x^TQx+c^Tx\n",
    "        # FOC (2Q+beta_kA^TA)x=-c\n",
    "        \n",
    "        #betasub_opt = - np.linalg.inv(H_current)@(c_current)\n",
    "        beta[indexes] = betasub_opt\n",
    "        #print(betasub_opt)\n",
    "        #print(lagrangian(beta, xi0, z0))\n",
    "        # Optimal \n",
    "        z[indexes] = optimal_z(beta[indexes], xi[indexes])\n",
    "        #print(z)\n",
    "    #z = optimal_z(beta, xi0)\n",
    "    #print(lagrangian(beta, xi0, z))\n",
    "    # Optimize xi\n",
    "    xi = xi - params[\"gamma\"]*(beta - z)\n",
    "    #print(xi, params[\"gamma\"], (beta - z))\n",
    "    #print()\n",
    "    #print(lagrangian(beta, xi, z))\n",
    "    \n",
    "    return beta, xi, z"
   ]
  },
  {
   "cell_type": "code",
   "execution_count": null,
   "metadata": {},
   "outputs": [],
   "source": [
    "#lagrangian(Beta_true, 0, Beta_true)"
   ]
  },
  {
   "cell_type": "code",
   "execution_count": 81,
   "metadata": {},
   "outputs": [],
   "source": [
    "beta0 = np.zeros((p, 1))\n",
    "z0 = np.zeros((p, 1))\n",
    "xi0 = np.zeros((p, 1))"
   ]
  },
  {
   "cell_type": "code",
   "execution_count": null,
   "metadata": {
    "scrolled": true
   },
   "outputs": [],
   "source": []
  },
  {
   "cell_type": "code",
   "execution_count": 82,
   "metadata": {},
   "outputs": [],
   "source": [
    "lag = []\n",
    "beta_error = []\n",
    "for k in range(10): #tqdm.tqdm(range(1)):\n",
    "    beta0, xi0, z0 = one_cycle_racmbadmm(p, beta0, xi0, z0)\n",
    "    beta_error.append(np.linalg.norm(Beta_true - beta0, 2))\n",
    "    lag.append(lagrangian(beta0, xi0, z0))\n",
    "    #print()"
   ]
  },
  {
   "cell_type": "code",
   "execution_count": 83,
   "metadata": {},
   "outputs": [
    {
     "data": {
      "image/png": "[encoded data removed]",
      "text/plain": [
       "<Figure size 432x288 with 1 Axes>"
      ]
     },
     "metadata": {
      "needs_background": "light"
     },
     "output_type": "display_data"
    }
   ],
   "source": [
    "plt.plot(beta_error)\n",
    "plt.yscale(\"log\")\n",
    "#plt.xscale(\"log\")"
   ]
  },
  {
   "cell_type": "markdown",
   "metadata": {},
   "source": [
    "## Scikit learn\n",
    "\n"
   ]
  },
  {
   "cell_type": "code",
   "execution_count": 86,
   "metadata": {},
   "outputs": [],
   "source": [
    "from sklearn.linear_model import ElasticNet\n",
    "sklearn_model = ElasticNet(alpha=params[\"lambda\"], l1_ratio=params[\"alpha\"])"
   ]
  },
  {
   "cell_type": "code",
   "execution_count": 88,
   "metadata": {},
   "outputs": [],
   "source": [
    "reg_ = sklearn_model.fit(X, y)"
   ]
  },
  {
   "cell_type": "code",
   "execution_count": 92,
   "metadata": {},
   "outputs": [
    {
     "data": {
      "text/plain": [
       "<1000x1 sparse matrix of type '<class 'numpy.float64'>'\n",
       "\twith 5 stored elements in Compressed Sparse Row format>"
      ]
     },
     "execution_count": 92,
     "metadata": {},
     "output_type": "execute_result"
    }
   ],
   "source": [
    "reg_.coef_.shape\n",
    "Beta_true[:, 0]"
   ]
  },
  {
   "cell_type": "code",
   "execution_count": 93,
   "metadata": {},
   "outputs": [
    {
     "data": {
      "text/plain": [
       "71.78504133870189"
      ]
     },
     "execution_count": 93,
     "metadata": {},
     "output_type": "execute_result"
    }
   ],
   "source": [
    "np.linalg.norm(reg_.coef_ -Beta_true.todense()[:, 0])"
   ]
  },
  {
   "cell_type": "code",
   "execution_count": null,
   "metadata": {},
   "outputs": [],
   "source": [
    "reg_.coef_;"
   ]
  },
  {
   "cell_type": "code",
   "execution_count": null,
   "metadata": {},
   "outputs": [],
   "source": [
    "if p == 1:\n",
    "    plt.plot(X[:, 0], X[:, 0:1]*Beta_true, label=\"True data\")\n",
    "    plt.plot(X[:, 0], X[:, 0] * reg_.coef_, label=\"Regression\")\n",
    "    plt.legend()"
   ]
  },
  {
   "cell_type": "markdown",
   "metadata": {},
   "source": [
    "# SVM"
   ]
  },
  {
   "cell_type": "code",
   "execution_count": 94,
   "metadata": {},
   "outputs": [],
   "source": [
    "## Load datasets"
   ]
  },
  {
   "cell_type": "code",
   "execution_count": null,
   "metadata": {},
   "outputs": [],
   "source": [
    "B = A.T @ A + params[\"gamma\"]*np.eye(p)\n",
    "def one_cycle_rac_mbadmm_svm(X, y, Q):\n",
    "    \n",
    "    \n",
    "    "
   ]
  }
 ],
 "metadata": {
  "kernelspec": {
   "display_name": "Python 3",
   "language": "python",
   "name": "python3"
  },
  "language_info": {
   "codemirror_mode": {
    "name": "ipython",
    "version": 3
   },
   "file_extension": ".py",
   "mimetype": "text/x-python",
   "name": "python",
   "nbconvert_exporter": "python",
   "pygments_lexer": "ipython3",
   "version": "3.7.3"
  },
  "pycharm": {
   "stem_cell": {
    "cell_type": "raw",
    "metadata": {
     "collapsed": false
    },
    "source": []
   }
  }
 },
 "nbformat": 4,
 "nbformat_minor": 1
}
