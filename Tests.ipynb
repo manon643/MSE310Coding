{
 "cells": [
  {
   "cell_type": "code",
   "execution_count": 1,
   "metadata": {
    "pycharm": {
     "name": "#%%\n"
    }
   },
   "outputs": [],
   "source": [
    "import numpy as np\n",
    "from scipy import sparse\n",
    "import sklearn"
   ]
  },
  {
   "cell_type": "code",
   "execution_count": 2,
   "metadata": {},
   "outputs": [],
   "source": [
    "params = {}\n",
    "params[\"lambda\"] = 0.1\n",
    "params[\"alpha\"] = 0.1\n",
    "\n",
    "params[\"gamma\"] = 0.1*params[\"lambda\"]\n"
   ]
  },
  {
   "cell_type": "markdown",
   "metadata": {},
   "source": [
    "### Generating Dense Dataset"
   ]
  },
  {
   "cell_type": "code",
   "execution_count": 157,
   "metadata": {},
   "outputs": [
    {
     "name": "stdout",
     "output_type": "stream",
     "text": [
      "Only  4495 non zeros beta\n",
      "X computed (1000, 5000) (5000, 1)\n",
      "y computed\n"
     ]
    }
   ],
   "source": [
    "n = 1000;\n",
    "p = 5000;\n",
    "sparsity_level = 0.1;\n",
    "block_size = 100\n",
    "\n",
    "\n",
    "sparse_ = np.random.uniform(size=p) > sparsity_level\n",
    "Beta_true = np.random.normal(size=(p))*sparse_\n",
    "Beta_true = sparse.csc_matrix(Beta_true).T\n",
    "\n",
    "\n",
    "X = np.random.random((n, p))\n",
    "p_real = sum(sparse_)\n",
    "print(\"Only \", p_real, \"non zeros beta\")\n",
    "#X_real = np.random.random((n, p_real))\n",
    "#X = sparse.csc_matrix((n, p))\n",
    "#j = 0\n",
    "#for j_real in range(p_real):\n",
    "#    print(j_real)\n",
    "#    while not sparse_[j]:\n",
    "#    j+=1\n",
    "#    X[:, j] = X_real[:, j_real:j_real+1]\n",
    "#\n",
    "print(\"X computed\", X.shape, Beta_true.shape)\n",
    "\n",
    "\n",
    "y = np.random.normal((X @ Beta_true), 0.01)\n",
    "print(\"y computed\")\n",
    "A = 1/np.sqrt(n)*X\n",
    "c = -1/n*X.T @ y"
   ]
  },
  {
   "cell_type": "code",
   "execution_count": 158,
   "metadata": {},
   "outputs": [],
   "source": [
    "import matplotlib.pyplot as plt"
   ]
  },
  {
   "cell_type": "code",
   "execution_count": 159,
   "metadata": {},
   "outputs": [
    {
     "data": {
      "image/png": "[encoded data removed]",
      "text/plain": [
       "<Figure size 432x288 with 1 Axes>"
      ]
     },
     "metadata": {
      "needs_background": "light"
     },
     "output_type": "display_data"
    }
   ],
   "source": [
    "plt.plot(X[:200, 0], y[:200], \"r+\");\n"
   ]
  },
  {
   "cell_type": "markdown",
   "metadata": {},
   "source": [
    "## Optimization"
   ]
  },
  {
   "cell_type": "code",
   "execution_count": 160,
   "metadata": {},
   "outputs": [],
   "source": [
    "def penalty(z):\n",
    "    return params[\"lambda\"]*((1-params[\"alpha\"])/2*np.linalg.norm(z, 1) + params[\"alpha\"]*np.linalg.norm(z, 2))"
   ]
  },
  {
   "cell_type": "code",
   "execution_count": 161,
   "metadata": {
    "pycharm": {
     "name": "#%%\n"
    }
   },
   "outputs": [],
   "source": [
    "#print(c.shape)\n",
    "def lagrangian(beta, xi, z, gamma=params[\"gamma\"]):\n",
    "    #print(beta.sign, beta.curvature)\n",
    "    \n",
    "    first = 1/2*np.linalg.norm(A @ beta, 2) \n",
    "    third = 1/2*gamma*np.linalg.norm(beta - z, 2) ## diminue si beta = z\n",
    "    second = (c - xi).T @ beta ## diminue si beta augmente\n",
    "    #print(first, second, third, fourth)\n",
    "    #return first.squeeze() + second.squeeze() + third.squeeze() + fourth.squeeze() + penalty(z).squeeze()\n",
    "    return first + second + third + penalty(z)\n"
   ]
  },
  {
   "cell_type": "code",
   "execution_count": 162,
   "metadata": {},
   "outputs": [],
   "source": [
    "def soft_thres(a, b):\n",
    "    return -((np.abs(b) < a)*((a>0)*(a-b)+(a<=0)*(a+b)))"
   ]
  },
  {
   "cell_type": "code",
   "execution_count": 163,
   "metadata": {},
   "outputs": [],
   "source": [
    "def optimal_z(beta, xi, \n",
    "              alpha=params[\"alpha\"], \n",
    "              lambd=params[\"lambda\"], \n",
    "              gamma=params[\"gamma\"]):\n",
    "    return soft_thres(xi-gamma*beta, lambd*alpha)/((1-alpha)*lambd+gamma)"
   ]
  },
  {
   "cell_type": "code",
   "execution_count": 164,
   "metadata": {},
   "outputs": [],
   "source": [
    "B = A.T @ A + params[\"gamma\"]*np.eye(p)"
   ]
  },
  {
   "cell_type": "code",
   "execution_count": 165,
   "metadata": {},
   "outputs": [],
   "source": [
    "## Algo\n",
    "\n",
    "\n",
    "\n",
    "def one_cycle_racmbadmm(p, beta, xi, z):\n",
    "    num_blocks = p // block_size\n",
    "    # Split in blocks\n",
    "    permutation = list(range(p))\n",
    "    np.random.shuffle(permutation)\n",
    "    \n",
    "    # Optimize beta\n",
    "    for i in range(num_blocks):\n",
    "        indexes = permutation[(i*block_size):((i+1)*block_size)]\n",
    "        remaining_indexes = [i for i in range(p) if i not in indexes]\n",
    "        #print(\"indexes\", indexes)\n",
    "        B1 = B[np.ix_(indexes, indexes)]\n",
    "        B2 = B[np.ix_(indexes, remaining_indexes)]\n",
    "\n",
    "        # Closed form optimum\n",
    "        betasub_opt = - np.linalg.inv(B1)@(B2 @ beta[remaining_indexes] + (c-xi-params[\"gamma\"]*z)[indexes])\n",
    "        \n",
    "        beta[indexes] = betasub_opt\n",
    "\n",
    "    # Optimal z\n",
    "    z = optimal_z(beta, xi)\n",
    "    # Optimize xi\n",
    "    xi = xi - params[\"gamma\"]*(beta - z)\n",
    "    \n",
    "    return beta, xi, z"
   ]
  },
  {
   "cell_type": "code",
   "execution_count": 166,
   "metadata": {},
   "outputs": [],
   "source": [
    "#lagrangian(Beta_true, 0, Beta_true)"
   ]
  },
  {
   "cell_type": "code",
   "execution_count": 167,
   "metadata": {},
   "outputs": [],
   "source": [
    "beta0 = np.zeros((p, 1))\n",
    "z0 = np.zeros((p, 1))\n",
    "xi0 = np.zeros((p, 1))"
   ]
  },
  {
   "cell_type": "code",
   "execution_count": null,
   "metadata": {
    "scrolled": true
   },
   "outputs": [],
   "source": []
  },
  {
   "cell_type": "code",
   "execution_count": 168,
   "metadata": {},
   "outputs": [],
   "source": [
    "lag = []\n",
    "beta_error = []\n",
    "for k in range(10): \n",
    "    beta0, xi0, z0 = one_cycle_racmbadmm(p, beta0, xi0, z0)\n",
    "    beta_error.append(np.linalg.norm(Beta_true - beta0, 2))\n",
    "    lag.append(lagrangian(beta0, xi0, z0))\n",
    "    #print()"
   ]
  },
  {
   "cell_type": "code",
   "execution_count": 169,
   "metadata": {},
   "outputs": [
    {
     "data": {
      "image/png": "[encoded data removed]",
      "text/plain": [
       "<Figure size 432x288 with 1 Axes>"
      ]
     },
     "metadata": {
      "needs_background": "light"
     },
     "output_type": "display_data"
    }
   ],
   "source": [
    "plt.plot(beta_error)\n",
    "plt.yscale(\"log\")\n",
    "#plt.xscale(\"log\")"
   ]
  },
  {
   "cell_type": "code",
   "execution_count": 174,
   "metadata": {},
   "outputs": [
    {
     "name": "stdout",
     "output_type": "stream",
     "text": [
      "Final error is 64.93115294089777\n"
     ]
    }
   ],
   "source": [
    "print(\"Final error is\", beta_error[-1])"
   ]
  },
  {
   "cell_type": "markdown",
   "metadata": {},
   "source": [
    "## Scikit learn\n",
    "\n"
   ]
  },
  {
   "cell_type": "code",
   "execution_count": 175,
   "metadata": {},
   "outputs": [],
   "source": [
    "from sklearn.linear_model import ElasticNet\n",
    "sklearn_model = ElasticNet(alpha=params[\"lambda\"], l1_ratio=params[\"alpha\"])"
   ]
  },
  {
   "cell_type": "code",
   "execution_count": 176,
   "metadata": {},
   "outputs": [],
   "source": [
    "reg_ = sklearn_model.fit(X, y)"
   ]
  },
  {
   "cell_type": "code",
   "execution_count": 177,
   "metadata": {},
   "outputs": [
    {
     "data": {
      "text/plain": [
       "<5000x1 sparse matrix of type '<class 'numpy.float64'>'\n",
       "\twith 4495 stored elements in Compressed Sparse Row format>"
      ]
     },
     "execution_count": 177,
     "metadata": {},
     "output_type": "execute_result"
    }
   ],
   "source": [
    "reg_.coef_.shape\n",
    "Beta_true[:, 0]"
   ]
  },
  {
   "cell_type": "code",
   "execution_count": 178,
   "metadata": {},
   "outputs": [
    {
     "data": {
      "text/plain": [
       "4949.4410640452825"
      ]
     },
     "execution_count": 178,
     "metadata": {},
     "output_type": "execute_result"
    }
   ],
   "source": [
    "np.linalg.norm(reg_.coef_ -Beta_true.todense()[:, 0])"
   ]
  },
  {
   "cell_type": "markdown",
   "metadata": {},
   "source": [
    "# SVM"
   ]
  },
  {
   "cell_type": "code",
   "execution_count": 187,
   "metadata": {},
   "outputs": [],
   "source": [
    "## Load datasets\n",
    "from sklearn.datasets import load_iris\n",
    "data = load_iris()"
   ]
  },
  {
   "cell_type": "code",
   "execution_count": 218,
   "metadata": {},
   "outputs": [],
   "source": [
    "X = data.data\n",
    "y = data.target\n",
    "n = X.shape[0]\n",
    "\n",
    "# Set up Q\n",
    "import numpy as np\n",
    "import scipy.ndimage.filters as fi\n",
    "\n",
    "def GaussianMatrix(X,sigma=10):\n",
    "    row,col=X.shape\n",
    "    GassMatrix=np.zeros(shape=(row,row))\n",
    "    X=np.asarray(X)\n",
    "    i=0\n",
    "    for v_i in X:\n",
    "        j=0\n",
    "        for v_j in X:\n",
    "            GassMatrix[i,j]=Gaussian(v_i.T,v_j.T,sigma)\n",
    "            j+=1\n",
    "        i+=1\n",
    "    return GassMatrix\n",
    "def Gaussian(x,z,sigma):\n",
    "    return np.exp((-(np.linalg.norm(x-z)**2))/(2*sigma**2))\n",
    "\n",
    "Q = GaussianMatrix(X)\n",
    "\n",
    "B = Q + params[\"gamma\"]*(y @ y.T + np.eye(n))\n",
    "ones = np.ones(n)\n",
    "block_size=15"
   ]
  },
  {
   "cell_type": "code",
   "execution_count": 228,
   "metadata": {},
   "outputs": [],
   "source": [
    "import cvxpy as cp\n",
    "def solve_sub_problem_a2(alpha_1, alpha_2, xi, zeta, c, gamma=params[\"gamma\"]):\n",
    "    # Solve for alpha_2\n",
    "    alpha_2 = cp.Variable(n)\n",
    "    #def lag_alpha_2(alpha_2):\n",
    "    #    return zeta.T @ alpha_2 + gamma/2*cp.norm(alpha_1 - alpha_2)**2\n",
    "    def lag_alpha_2(alpha_2):\n",
    "        return zeta.T @ alpha_2 + gamma/2*cp.norm(alpha_2)**2 - gamma*alpha_1.T @ alpha_2\n",
    "    problem = cp.Problem(cp.Minimize(lag_alpha_2(alpha_2)), [alpha_2 >= np.zeros(n), alpha_2 <= c*np.ones(n)])\n",
    "    problem.solve()\n",
    "                         \n",
    "    # Print result.\n",
    "    print(problem.status)\n",
    "    print(\"The optimal value is\", problem.value)\n",
    "    return alpha_2.value"
   ]
  },
  {
   "cell_type": "code",
   "execution_count": 229,
   "metadata": {},
   "outputs": [],
   "source": [
    "def to_minimize(alpha_1):\n",
    "    return 0.5*alpha_1.T @ Q @ alpha_1 - sum(alpha_1)"
   ]
  },
  {
   "cell_type": "code",
   "execution_count": 230,
   "metadata": {},
   "outputs": [],
   "source": [
    "def aug_lag(alpha_1, alpha_2, xi, zeta, y, gamma=params[\"gamma\"]):\n",
    "    first = 0.5*alpha_1.T @ B @ alpha_1 \n",
    "    second = - (ones + xi*y + zeta + gamma*alpha_2).T @ alpha_1 + zeta.T @ alpha_2\n",
    "    third = gamma/2*alpha_2.T @ alpha_2\n",
    "    return first + second + third"
   ]
  },
  {
   "cell_type": "code",
   "execution_count": 231,
   "metadata": {},
   "outputs": [
    {
     "data": {
      "text/plain": [
       "(150, 150)"
      ]
     },
     "execution_count": 231,
     "metadata": {},
     "output_type": "execute_result"
    }
   ],
   "source": [
    "Q.shape"
   ]
  },
  {
   "cell_type": "code",
   "execution_count": 232,
   "metadata": {},
   "outputs": [
    {
     "data": {
      "text/plain": [
       "150"
      ]
     },
     "execution_count": 232,
     "metadata": {},
     "output_type": "execute_result"
    }
   ],
   "source": [
    "n"
   ]
  },
  {
   "cell_type": "code",
   "execution_count": 237,
   "metadata": {},
   "outputs": [],
   "source": [
    "\n",
    "def one_cycle_rac_mbadmm_svm(alpha_1, alpha_2, xi, zeta, c, gamma=params[\"gamma\"]):\n",
    "    num_blocks = n // 15\n",
    "    # Split in blocks\n",
    "    permutation = list(range(n))\n",
    "    np.random.shuffle(permutation)\n",
    "    print(aug_lag(alpha_1, alpha_2, xi, zeta, y, gamma))\n",
    "    for i in range(num_blocks):\n",
    "        indexes = permutation[(i*block_size):((i+1)*block_size)]\n",
    "        #print(indexes)\n",
    "        remaining_indexes = [i for i in range(n) if i not in indexes]\n",
    "        B1 = B[np.ix_(indexes, indexes)]\n",
    "        B2 = B[np.ix_(indexes, remaining_indexes)]\n",
    "        \n",
    "        #print(block_size, B1.shape, B2.shape, beta[remaining_indexes].shape)\n",
    "        #import pdb; pdb.set_trace()\n",
    "        alpha_1_sub_opt = np.linalg.inv(B1)@(-B2 @ alpha_1[remaining_indexes] + \n",
    "                                             (ones+xi*y+zeta+params[\"gamma\"]*alpha_2)[indexes])\n",
    "        #print(alpha_1_sub_opt)\n",
    "        alpha_1[indexes] = alpha_1_sub_opt\n",
    "        print(aug_lag(alpha_1, alpha_2, xi, zeta, y, gamma))\n",
    "        print(np.all(alpha_1>=0), np.all(alpha_1<=c))\n",
    "    \n",
    "    alpha_2 = solve_sub_problem_a2(alpha_1, alpha_2, xi, zeta, c)\n",
    "    #print(alpha_2)\n",
    "    # Optimize xi\n",
    "    xi = xi - gamma*(y.T @ alpha_1)\n",
    "    # Optimize zeta \n",
    "    zeta = zeta - gamma*(alpha_1 - alpha_2)\n",
    "    print(xi>=0, np.all(zeta>=0))\n",
    "    print(aug_lag(alpha_1, alpha_2, xi, zeta, y, gamma))\n",
    "    print()\n",
    "    return to_minimize(alpha_1), alpha_1, alpha_2, xi, zeta\n",
    "    "
   ]
  },
  {
   "cell_type": "code",
   "execution_count": 238,
   "metadata": {},
   "outputs": [],
   "source": [
    "alpha_1 = np.zeros(n)\n",
    "alpha_2 = alpha_1.copy()\n",
    "xi = 0\n",
    "zeta = alpha_1.copy()"
   ]
  },
  {
   "cell_type": "code",
   "execution_count": 239,
   "metadata": {},
   "outputs": [
    {
     "data": {
      "text/plain": [
       "150"
      ]
     },
     "execution_count": 239,
     "metadata": {},
     "output_type": "execute_result"
    }
   ],
   "source": [
    "n"
   ]
  },
  {
   "cell_type": "code",
   "execution_count": 240,
   "metadata": {},
   "outputs": [
    {
     "name": "stdout",
     "output_type": "stream",
     "text": [
      "0.0\n",
      "-0.15020294630264658\n",
      "False True\n",
      "-0.15200313923691117\n",
      "False True\n",
      "-0.15245977465973107\n",
      "False True\n",
      "-0.15293336763484716\n",
      "False True\n",
      "-0.1535862686709468\n",
      "False True\n",
      "-0.15374889246520806\n",
      "False True\n",
      "-0.15388208222916963\n",
      "False True\n",
      "-0.15391202473443\n",
      "False True\n",
      "-0.15409813297351893\n",
      "False True\n",
      "-0.15413169011224148\n",
      "False True\n",
      "optimal\n",
      "The optimal value is -0.003103539907593983\n",
      "False False\n",
      "-0.15296237036159674\n",
      "\n",
      "-0.15296237036159674\n",
      "-0.15315095021716585\n",
      "False True\n",
      "-0.1539768299345085\n",
      "False True\n",
      "-0.15400140990920563\n",
      "False True\n",
      "-0.15423576910753484\n",
      "False True\n",
      "-0.15438310507779981\n",
      "False True\n",
      "-0.1543067656996577\n",
      "False True\n",
      "-0.15440879113371958\n",
      "False True\n",
      "-0.15441946151654373\n",
      "False True\n",
      "-0.15449945646318125\n",
      "False True\n",
      "-0.15462964340148486\n",
      "False True\n",
      "optimal\n",
      "The optimal value is -0.0038275561994434875\n",
      "False False\n",
      "-0.1541923287601797\n",
      "\n",
      "-0.1541923287601797\n",
      "-0.15426610168859511\n",
      "False True\n",
      "-0.1543168306760923\n",
      "False True\n",
      "-0.1543574966989193\n",
      "False True\n",
      "-0.15446518295017847\n",
      "False True\n",
      "-0.15447631274954293\n",
      "False True\n",
      "-0.15447568588167795\n",
      "False True\n",
      "-0.1545031402643978\n",
      "False True\n",
      "-0.15449703536614035\n",
      "False True\n",
      "-0.15455410445917594\n",
      "False True\n",
      "-0.15452173328623867\n",
      "False True\n",
      "optimal\n",
      "The optimal value is -0.004643628286693912\n",
      "False False\n",
      "-0.15425898726755652\n",
      "\n",
      "-0.15425898726755652\n",
      "-0.15422782581807032\n",
      "False True\n",
      "-0.15425783295515785\n",
      "False True\n",
      "-0.15419938579410888\n",
      "False True\n",
      "-0.15421159070990467\n",
      "False True\n",
      "-0.15423340332394603\n",
      "False True\n",
      "-0.15423014092316106\n",
      "False True\n",
      "-0.15428700657929223\n",
      "False True\n",
      "-0.15423448278156277\n",
      "False True\n",
      "-0.15413501031558363\n",
      "False True\n",
      "-0.1541280163178178\n",
      "False True\n",
      "optimal\n",
      "The optimal value is -0.005333698035519968\n",
      "False False\n",
      "-0.15384378237285073\n",
      "\n",
      "-0.15384378237285073\n",
      "-0.15376560742377843\n",
      "False True\n",
      "-0.15362845890497664\n",
      "False True\n",
      "-0.15354984351064255\n",
      "False True\n",
      "-0.15357671713660864\n",
      "False True\n",
      "-0.15362653855838132\n",
      "False True\n",
      "-0.15352130173657336\n",
      "False True\n",
      "-0.15351761070264958\n",
      "False True\n",
      "-0.1533394146509558\n",
      "False True\n",
      "-0.15334507484525797\n",
      "False True\n",
      "-0.15334711106105756\n",
      "False True\n",
      "optimal\n",
      "The optimal value is -0.006479124915075982\n",
      "False False\n",
      "-0.15306348479736603\n",
      "\n",
      "-0.15306348479736603\n",
      "-0.15301492392874827\n",
      "False True\n",
      "-0.15303908193606827\n",
      "False True\n",
      "-0.15310448374160213\n",
      "False True\n",
      "-0.1530332049132929\n",
      "False True\n",
      "-0.15292873569823348\n",
      "False True\n",
      "-0.15294696087235593\n",
      "False True\n",
      "-0.15291258842307384\n",
      "False True\n",
      "-0.15281971657560386\n",
      "False True\n",
      "-0.1528563251110548\n",
      "False True\n",
      "-0.15270060431925347\n",
      "False True\n",
      "optimal\n",
      "The optimal value is -0.007206739906493965\n",
      "False False\n",
      "-0.15244746433218084\n",
      "\n",
      "-0.15244746433218084\n",
      "-0.15253407383502474\n",
      "False True\n",
      "-0.1524181381917643\n",
      "False True\n",
      "-0.1524234951744214\n",
      "False True\n",
      "-0.1523078588809894\n",
      "False True\n",
      "-0.15235917560090656\n",
      "False True\n",
      "-0.15239255601175075\n",
      "False True\n",
      "-0.15225161231278028\n",
      "False True\n",
      "-0.15228019933595757\n",
      "False True\n",
      "-0.15225660969534954\n",
      "False True\n",
      "-0.15216625168182368\n",
      "False True\n",
      "optimal\n",
      "The optimal value is -0.0078005543168098105\n",
      "False False\n",
      "-0.1519256428491474\n",
      "\n",
      "-0.1519256428491474\n",
      "-0.15184952089389808\n",
      "False True\n",
      "-0.1517504400638676\n",
      "False True\n",
      "-0.15164565257280505\n",
      "False True\n",
      "-0.1516802736469447\n",
      "False True\n",
      "-0.15168369459042913\n",
      "False True\n",
      "-0.15169018203898052\n",
      "False True\n",
      "-0.15173006808605788\n",
      "False True\n",
      "-0.15164385188893076\n",
      "False True\n",
      "-0.15165654295797937\n",
      "False True\n",
      "-0.15157867068093211\n",
      "False True\n",
      "optimal\n",
      "The optimal value is -0.008370574967320967\n",
      "False False\n",
      "-0.151338681885026\n",
      "\n",
      "-0.151338681885026\n",
      "-0.15135877919318028\n",
      "False True\n",
      "-0.15124088893672435\n",
      "False True\n",
      "-0.15122521902447403\n",
      "False True\n",
      "-0.151224788146139\n",
      "False True\n",
      "-0.15109118845843714\n",
      "False True\n",
      "-0.15109315917013164\n",
      "False True\n",
      "-0.150995769846851\n",
      "False True\n",
      "-0.1508315974350349\n",
      "False True\n",
      "-0.1508049493469598\n",
      "False True\n",
      "-0.15082141440225508\n",
      "False True\n",
      "optimal\n",
      "The optimal value is -0.009145105924094758\n",
      "False False\n",
      "-0.15058739489540335\n",
      "\n",
      "-0.15058739489540335\n",
      "-0.15012833479877738\n",
      "False True\n",
      "-0.15014240677636162\n",
      "False True\n",
      "-0.15014489672710618\n",
      "False True\n",
      "-0.15016566615941307\n",
      "False True\n",
      "-0.15015875009157625\n",
      "False True\n",
      "-0.15017038909889052\n",
      "False True\n",
      "-0.15000324490285502\n",
      "False True\n",
      "-0.15001485097103934\n",
      "False True\n",
      "-0.15000385445299486\n",
      "False True\n",
      "-0.15002366419766316\n",
      "False True\n",
      "optimal\n",
      "The optimal value is -0.009949400679191795\n",
      "False False\n",
      "-0.14979294849217878\n",
      "\n"
     ]
    }
   ],
   "source": [
    "losses = []\n",
    "for i in range(10):\n",
    "    loss, alpha_1, alpha_2, xi, zeta  = one_cycle_rac_mbadmm_svm(alpha_1, alpha_2, xi, zeta, 1, gamma=1e-3)\n",
    "    losses.append(loss)"
   ]
  },
  {
   "cell_type": "code",
   "execution_count": 243,
   "metadata": {},
   "outputs": [
    {
     "data": {
      "image/png": "[encoded data removed]",
      "text/plain": [
       "<Figure size 432x288 with 1 Axes>"
      ]
     },
     "metadata": {
      "needs_background": "light"
     },
     "output_type": "display_data"
    }
   ],
   "source": [
    "import matplotlib.pyplot as plt\n",
    "plt.plot(losses)\n",
    "plt.show()"
   ]
  },
  {
   "cell_type": "code",
   "execution_count": null,
   "metadata": {},
   "outputs": [],
   "source": [
    "## Sc"
   ]
  }
 ],
 "metadata": {
  "kernelspec": {
   "display_name": "Python 3",
   "language": "python",
   "name": "python3"
  },
  "language_info": {
   "codemirror_mode": {
    "name": "ipython",
    "version": 3
   },
   "file_extension": ".py",
   "mimetype": "text/x-python",
   "name": "python",
   "nbconvert_exporter": "python",
   "pygments_lexer": "ipython3",
   "version": "3.7.3"
  },
  "pycharm": {
   "stem_cell": {
    "cell_type": "raw",
    "metadata": {
     "collapsed": false
    },
    "source": []
   }
  }
 },
 "nbformat": 4,
 "nbformat_minor": 1
}
