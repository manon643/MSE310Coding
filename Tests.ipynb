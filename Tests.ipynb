{
 "cells": [
  {
   "cell_type": "code",
   "execution_count": 2,
   "metadata": {
    "pycharm": {
     "name": "#%%\n"
    }
   },
   "outputs": [],
   "source": [
    "import numpy as np\n",
    "import cvxpy as cp"
   ]
  },
  {
   "cell_type": "code",
   "execution_count": 39,
   "metadata": {
    "pycharm": {
     "name": "#%%\n"
    }
   },
   "outputs": [
    {
     "name": "stdout",
     "output_type": "stream",
     "text": [
      "is_dcp True\n",
      "status: optimal\n",
      "optimal value 1.0\n",
      "optimal var 1.0 1.570086213240983e-22\n"
     ]
    }
   ],
   "source": [
    "# Create two scalar optimization variables.\n",
    "x = cp.Variable()\n",
    "y = cp.Variable()\n",
    "\n",
    "# Create two constraints.\n",
    "constraints = [x + y == 1,\n",
    "               x - y >= 1]\n",
    "\n",
    "# Form objective.\n",
    "obj = cp.Minimize((x - y)**2)\n",
    "\n",
    "# Form and solve problem.\n",
    "prob = cp.Problem(obj, constraints)\n",
    "print(\"is_dcp\", prob.is_dcp())\n",
    "prob.solve()  # Returns the optimal value.\n",
    "print(\"status:\", prob.status)\n",
    "print(\"optimal value\", prob.value)\n",
    "print(\"optimal var\", x.value, y.value)"
   ]
  },
  {
   "cell_type": "code",
   "execution_count": 345,
   "metadata": {},
   "outputs": [],
   "source": [
    "params = {}\n",
    "params[\"lambda\"] = 1\n",
    "params[\"alpha\"] = 0.5\n",
    "params[\"gamma\"] = 0.2\n"
   ]
  },
  {
   "cell_type": "markdown",
   "metadata": {},
   "source": [
    "### Generating Dataset"
   ]
  },
  {
   "cell_type": "code",
   "execution_count": 413,
   "metadata": {},
   "outputs": [],
   "source": [
    "n = 10;\n",
    "p = 1;\n",
    "X = np.random.random((n, p))\n",
    "Beta_true = np.random.normal(size=(p))\n",
    "y = np.random.normal(np.matmul(X, Beta_true), 0.05/np.sqrt(n))"
   ]
  },
  {
   "cell_type": "code",
   "execution_count": 414,
   "metadata": {},
   "outputs": [
    {
     "data": {
      "text/plain": [
       "array([1.00268675])"
      ]
     },
     "execution_count": 414,
     "metadata": {},
     "output_type": "execute_result"
    }
   ],
   "source": [
    "Beta_true"
   ]
  },
  {
   "cell_type": "code",
   "execution_count": 415,
   "metadata": {},
   "outputs": [],
   "source": [
    "import matplotlib.pyplot as plt"
   ]
  },
  {
   "cell_type": "code",
   "execution_count": 416,
   "metadata": {},
   "outputs": [
    {
     "data": {
      "text/plain": [
       "[<matplotlib.lines.Line2D at 0x828000208>]"
      ]
     },
     "execution_count": 416,
     "metadata": {},
     "output_type": "execute_result"
    },
    {
     "data": {
      "image/png": "[encoded data removed]",
      "text/plain": [
       "<Figure size 432x288 with 1 Axes>"
      ]
     },
     "metadata": {
      "needs_background": "light"
     },
     "output_type": "display_data"
    }
   ],
   "source": [
    "plt.plot(X[:, 0], y, \"r+\")\n",
    "plt.plot(X[:, 0], np.matmul(X, Beta_true), \"k-\")"
   ]
  },
  {
   "cell_type": "markdown",
   "metadata": {},
   "source": [
    "## Optimization"
   ]
  },
  {
   "cell_type": "code",
   "execution_count": 417,
   "metadata": {},
   "outputs": [],
   "source": [
    "def penalty(z):\n",
    "    return params[\"lambda\"]*((1-params[\"alpha\"])/2*np.linalg.norm(z, 1) + params[\"alpha\"]*np.linalg.norm(z, 2))"
   ]
  },
  {
   "cell_type": "code",
   "execution_count": 418,
   "metadata": {
    "pycharm": {
     "name": "#%%\n"
    }
   },
   "outputs": [],
   "source": [
    "A = 1/np.sqrt(n)*X\n",
    "c = -1/n*X.T @ y\n",
    "#print(c.shape)\n",
    "def lagrangian(beta, xi, z, gamma=params[\"gamma\"]):\n",
    "    #print(beta.sign, beta.curvature)\n",
    "    \n",
    "    first = 1/2*cp.norm(A @ beta, 2) \n",
    "    third = 1/2*gamma*cp.norm(beta - z, 2) ## diminue si beta = z\n",
    "    second = (c - xi).T @ beta ## diminue si beta augmente\n",
    "    #print(first, second, third, fourth)\n",
    "    #return first.squeeze() + second.squeeze() + third.squeeze() + fourth.squeeze() + penalty(z).squeeze()\n",
    "    return first + second + third + penalty(z)\n"
   ]
  },
  {
   "cell_type": "code",
   "execution_count": 419,
   "metadata": {},
   "outputs": [],
   "source": [
    "def soft_thres(a, b):\n",
    "    return -((np.abs(b) < a)*((a>0)*(a-b)+(a<=0)*(a+b)))"
   ]
  },
  {
   "cell_type": "code",
   "execution_count": 420,
   "metadata": {},
   "outputs": [],
   "source": [
    "def optimal_z(beta, xi, \n",
    "              alpha=params[\"alpha\"], \n",
    "              lambd=params[\"lambda\"], \n",
    "              gamma=params[\"gamma\"]):\n",
    "    return soft_thres(xi-gamma*beta, lambd*alpha)/((1-alpha)*lambd+gamma)"
   ]
  },
  {
   "cell_type": "code",
   "execution_count": 421,
   "metadata": {},
   "outputs": [],
   "source": [
    "## Algo\n",
    "block_size = 1\n",
    "def one_cycle_racmbadmm(p, beta, xi0, z0):\n",
    "    num_blocks = p // block_size\n",
    "    # Split in blocks\n",
    "    permutation = list(range(p))\n",
    "    np.random.shuffle(permutation)\n",
    "    \n",
    "    # Optimize beta\n",
    "    for i in range(num_blocks):\n",
    "        indexes = permutation[(i*block_size):((i+1)*block_size)]\n",
    "        print(\"indexes\", indexes)\n",
    "        mask = np.diag([int(i in indexes) for i in range(p)])\n",
    "        #print(mask)\n",
    "        beta_vr = cp.Variable(p)\n",
    "        beta_mask = mask*beta_vr\n",
    "        #print(beta_mask)\n",
    "        obj = cp.Minimize(lagrangian(beta_mask, xi0, z0))\n",
    "        prob = cp.Problem(obj, [])\n",
    "        print(prob.is_dcp())\n",
    "        print(prob.solve())\n",
    "        print(prob.status)\n",
    "        beta[indexes] = beta_vr.value[indexes]\n",
    "    # Optimal\n",
    "    z = optimal_z(beta, xi0)\n",
    "    # Optimize xi\n",
    "    xi = xi0 - params[\"gamma\"]*(beta - z)\n",
    "    \n",
    "    return beta, xi, z"
   ]
  },
  {
   "cell_type": "code",
   "execution_count": 422,
   "metadata": {},
   "outputs": [
    {
     "data": {
      "text/plain": [
       "0.6715809468672267"
      ]
     },
     "execution_count": 422,
     "metadata": {},
     "output_type": "execute_result"
    }
   ],
   "source": [
    "lagrangian(Beta_true, 0, Beta_true).value"
   ]
  },
  {
   "cell_type": "code",
   "execution_count": 423,
   "metadata": {},
   "outputs": [],
   "source": [
    "beta0 = np.random.random(size=p)\n",
    "z0 = np.random.random(size=p)\n",
    "xi0 = np.random.random(size=p)"
   ]
  },
  {
   "cell_type": "code",
   "execution_count": 424,
   "metadata": {},
   "outputs": [
    {
     "name": "stdout",
     "output_type": "stream",
     "text": [
      "[-0.91609103]\n"
     ]
    }
   ],
   "source": [
    "print((c - xi0 - params[\"gamma\"]*z0))"
   ]
  },
  {
   "cell_type": "code",
   "execution_count": 425,
   "metadata": {},
   "outputs": [
    {
     "name": "stdout",
     "output_type": "stream",
     "text": [
      "indexes [0]\n",
      "True\n",
      "-inf\n",
      "unbounded\n"
     ]
    },
    {
     "ename": "TypeError",
     "evalue": "'NoneType' object is not subscriptable",
     "output_type": "error",
     "traceback": [
      "\u001b[0;31m---------------------------------------------------------------------------\u001b[0m",
      "\u001b[0;31mTypeError\u001b[0m                                 Traceback (most recent call last)",
      "\u001b[0;32m<ipython-input-425-02f4de16de0d>\u001b[0m in \u001b[0;36m<module>\u001b[0;34m\u001b[0m\n\u001b[0;32m----> 1\u001b[0;31m \u001b[0mbeta0\u001b[0m\u001b[0;34m,\u001b[0m \u001b[0mxi0\u001b[0m\u001b[0;34m,\u001b[0m \u001b[0mz0\u001b[0m \u001b[0;34m=\u001b[0m \u001b[0mone_cycle_racmbadmm\u001b[0m\u001b[0;34m(\u001b[0m\u001b[0mp\u001b[0m\u001b[0;34m,\u001b[0m \u001b[0mbeta0\u001b[0m\u001b[0;34m,\u001b[0m \u001b[0mxi0\u001b[0m\u001b[0;34m,\u001b[0m \u001b[0mz0\u001b[0m\u001b[0;34m)\u001b[0m\u001b[0;34m\u001b[0m\u001b[0;34m\u001b[0m\u001b[0m\n\u001b[0m",
      "\u001b[0;32m<ipython-input-421-687695bf7dde>\u001b[0m in \u001b[0;36mone_cycle_racmbadmm\u001b[0;34m(p, beta, xi0, z0)\u001b[0m\n\u001b[1;32m     21\u001b[0m         \u001b[0mprint\u001b[0m\u001b[0;34m(\u001b[0m\u001b[0mprob\u001b[0m\u001b[0;34m.\u001b[0m\u001b[0msolve\u001b[0m\u001b[0;34m(\u001b[0m\u001b[0;34m)\u001b[0m\u001b[0;34m)\u001b[0m\u001b[0;34m\u001b[0m\u001b[0;34m\u001b[0m\u001b[0m\n\u001b[1;32m     22\u001b[0m         \u001b[0mprint\u001b[0m\u001b[0;34m(\u001b[0m\u001b[0mprob\u001b[0m\u001b[0;34m.\u001b[0m\u001b[0mstatus\u001b[0m\u001b[0;34m)\u001b[0m\u001b[0;34m\u001b[0m\u001b[0;34m\u001b[0m\u001b[0m\n\u001b[0;32m---> 23\u001b[0;31m         \u001b[0mbeta\u001b[0m\u001b[0;34m[\u001b[0m\u001b[0mindexes\u001b[0m\u001b[0;34m]\u001b[0m \u001b[0;34m=\u001b[0m \u001b[0mbeta_vr\u001b[0m\u001b[0;34m.\u001b[0m\u001b[0mvalue\u001b[0m\u001b[0;34m[\u001b[0m\u001b[0mindexes\u001b[0m\u001b[0;34m]\u001b[0m\u001b[0;34m\u001b[0m\u001b[0;34m\u001b[0m\u001b[0m\n\u001b[0m\u001b[1;32m     24\u001b[0m     \u001b[0;31m# Optimal\u001b[0m\u001b[0;34m\u001b[0m\u001b[0;34m\u001b[0m\u001b[0;34m\u001b[0m\u001b[0m\n\u001b[1;32m     25\u001b[0m     \u001b[0mz\u001b[0m \u001b[0;34m=\u001b[0m \u001b[0moptimal_z\u001b[0m\u001b[0;34m(\u001b[0m\u001b[0mbeta\u001b[0m\u001b[0;34m,\u001b[0m \u001b[0mxi0\u001b[0m\u001b[0;34m)\u001b[0m\u001b[0;34m\u001b[0m\u001b[0;34m\u001b[0m\u001b[0m\n",
      "\u001b[0;31mTypeError\u001b[0m: 'NoneType' object is not subscriptable"
     ]
    }
   ],
   "source": [
    "beta0, xi0, z0 = one_cycle_racmbadmm(p, beta0, xi0, z0)"
   ]
  },
  {
   "cell_type": "code",
   "execution_count": 426,
   "metadata": {},
   "outputs": [
    {
     "name": "stdout",
     "output_type": "stream",
     "text": [
      "[1.00268675] [0.79912144] [0.80298961]\n"
     ]
    }
   ],
   "source": [
    "print(Beta_true, beta0, z0)"
   ]
  },
  {
   "cell_type": "code",
   "execution_count": 410,
   "metadata": {},
   "outputs": [
    {
     "data": {
      "text/plain": [
       "0.5941643094927811"
      ]
     },
     "execution_count": 410,
     "metadata": {},
     "output_type": "execute_result"
    }
   ],
   "source": [
    "penalty(z0)"
   ]
  },
  {
   "cell_type": "code",
   "execution_count": 411,
   "metadata": {},
   "outputs": [
    {
     "data": {
      "text/plain": [
       "0.37268233423372665"
      ]
     },
     "execution_count": 411,
     "metadata": {},
     "output_type": "execute_result"
    }
   ],
   "source": [
    "lagrangian(beta0, xi0, z0).value"
   ]
  },
  {
   "cell_type": "code",
   "execution_count": 412,
   "metadata": {},
   "outputs": [
    {
     "data": {
      "text/plain": [
       "array([0.24242712])"
      ]
     },
     "execution_count": 412,
     "metadata": {},
     "output_type": "execute_result"
    }
   ],
   "source": [
    "xi0"
   ]
  },
  {
   "cell_type": "code",
   "execution_count": null,
   "metadata": {},
   "outputs": [],
   "source": []
  }
 ],
 "metadata": {
  "kernelspec": {
   "display_name": "Python 3",
   "language": "python",
   "name": "python3"
  },
  "language_info": {
   "codemirror_mode": {
    "name": "ipython",
    "version": 3
   },
   "file_extension": ".py",
   "mimetype": "text/x-python",
   "name": "python",
   "nbconvert_exporter": "python",
   "pygments_lexer": "ipython3",
   "version": "3.7.3"
  },
  "pycharm": {
   "stem_cell": {
    "cell_type": "raw",
    "metadata": {
     "collapsed": false
    },
    "source": []
   }
  }
 },
 "nbformat": 4,
 "nbformat_minor": 1
}
